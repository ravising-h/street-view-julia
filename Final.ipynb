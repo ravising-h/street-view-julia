{
 "cells": [
  {
   "cell_type": "code",
   "execution_count": 5,
   "metadata": {},
   "outputs": [],
   "source": [
    "using Pkg\n",
    "using DataFrames\n",
    "using Colors\n",
    "using Images\n",
    "using ImageView\n",
    "using DecisionTree\n",
    "using CSV"
   ]
  },
  {
   "cell_type": "code",
   "execution_count": 6,
   "metadata": {},
   "outputs": [
    {
     "data": {
      "text/plain": [
       "read_data (generic function with 1 method)"
      ]
     },
     "execution_count": 6,
     "metadata": {},
     "output_type": "execute_result"
    }
   ],
   "source": [
    "function read_data(typeData, labelsInfo, imageSize, path)\n",
    " #Intialize x matrix\n",
    " x = zeros(size(labelsInfo, 1), imageSize)\n",
    "\n",
    " #for (index, idImage) in enumerate(labelsInfo[\"ID\"])\n",
    " for (index, idImage) in enumerate(labelsInfo[:ID])\n",
    "  #Read image file\n",
    "  nameFile = \"$(path)/$(typeData)Resized/$(idImage).Bmp\"\n",
    "  img = load(nameFile)\n",
    "\n",
    "  # Convert images to grayscale\n",
    "  temp = Gray.(img)\n",
    "  #imshow(temp)  # Show all images; not recommended for large\n",
    "\n",
    "  #Transform image matrix to a vector and store\n",
    "  #it in data matrix\n",
    "  x[index, :] = reshape(temp, 1, imageSize)\n",
    " end\n",
    " return x\n",
    "end"
   ]
  },
  {
   "cell_type": "code",
   "execution_count": 11,
   "metadata": {},
   "outputs": [
    {
     "data": {
      "text/plain": [
       "6283-element Array{Int64,1}:\n",
       " 110\n",
       "  56\n",
       "  84\n",
       "  73\n",
       "  82\n",
       "  87\n",
       "  76\n",
       " 108\n",
       "  75\n",
       "  71\n",
       "  65\n",
       "  65\n",
       "  67\n",
       "   ⋮\n",
       " 116\n",
       "  83\n",
       " 101\n",
       " 108\n",
       "  79\n",
       "  82\n",
       "  76\n",
       "  78\n",
       "  73\n",
       "  80\n",
       "  78\n",
       "  82"
      ]
     },
     "execution_count": 11,
     "metadata": {},
     "output_type": "execute_result"
    }
   ],
   "source": [
    "## Main programme\n",
    "imageSize = 400 # 20 x 20 pixel\n",
    "\n",
    "#Set location of data files, folders\n",
    "path =  \"C:\\\\Users\\\\RAVISINGH\\\\Desktop\\\\Data Science\\\\julia\"\n",
    "\n",
    "\n",
    "#Read information about training data , IDs.\n",
    "labelsInfoTrain = CSV.read(\"$(path)\\\\trainLabels.csv\")\n",
    "\n",
    "#Read training matrix\n",
    "xTrain = read_data(\"train\", labelsInfoTrain, imageSize, path)\n",
    "\n",
    "#Read information about test data ( IDs ).\n",
    "labelsInfoTest = CSV.read(\"$(path)\\\\sampleSubmission.csv\")\n",
    "\n",
    "#Read test matrix\n",
    "xTest = read_data(\"test\", labelsInfoTest, imageSize, path)\n",
    "\n",
    "#Get only first character of string (convert from string to character).\n",
    "#Apply the function to each element of the column \"Class\"\n",
    "yTrain = Int.(map(x -> x[1], labelsInfoTrain[:Class]))\n",
    "\n",
    "#Convert to array\n",
    "yTrain = convert(Array, yTrain)\n"
   ]
  },
  {
   "cell_type": "code",
   "execution_count": 39,
   "metadata": {},
   "outputs": [
    {
     "data": {
      "text/plain": [
       "Ensemble of Decision Trees\n",
       "Trees:      150\n",
       "Avg Leaves: 1927.96\n",
       "Avg Depth:  18.466666666666665"
      ]
     },
     "execution_count": 39,
     "metadata": {},
     "output_type": "execute_result"
    }
   ],
   "source": [
    "\n",
    "model = build_forest(yTrain, xTrain, 20, 150, 0.8)\n",
    "\n"
   ]
  },
  {
   "cell_type": "code",
   "execution_count": 40,
   "metadata": {
    "scrolled": true
   },
   "outputs": [
    {
     "data": {
      "text/html": [
       "<table class=\"data-frame\"><thead><tr><th></th><th>ID</th><th>Class</th></tr><tr><th></th><th>Int64</th><th>Char</th></tr></thead><tbody><p>6,220 rows × 2 columns</p><tr><th>1</th><td>6284</td><td>'H'</td></tr><tr><th>2</th><td>6285</td><td>'E'</td></tr><tr><th>3</th><td>6286</td><td>'A'</td></tr><tr><th>4</th><td>6287</td><td>'D'</td></tr><tr><th>5</th><td>6288</td><td>'E'</td></tr><tr><th>6</th><td>6289</td><td>'I'</td></tr><tr><th>7</th><td>6290</td><td>'0'</td></tr><tr><th>8</th><td>6291</td><td>'a'</td></tr><tr><th>9</th><td>6292</td><td>'S'</td></tr><tr><th>10</th><td>6293</td><td>'H'</td></tr><tr><th>11</th><td>6294</td><td>'N'</td></tr><tr><th>12</th><td>6295</td><td>'E'</td></tr><tr><th>13</th><td>6296</td><td>'A'</td></tr><tr><th>14</th><td>6297</td><td>'H'</td></tr><tr><th>15</th><td>6298</td><td>'M'</td></tr><tr><th>16</th><td>6299</td><td>'A'</td></tr><tr><th>17</th><td>6300</td><td>'A'</td></tr><tr><th>18</th><td>6301</td><td>'R'</td></tr><tr><th>19</th><td>6302</td><td>'A'</td></tr><tr><th>20</th><td>6303</td><td>'S'</td></tr><tr><th>21</th><td>6304</td><td>'n'</td></tr><tr><th>22</th><td>6305</td><td>'C'</td></tr><tr><th>23</th><td>6306</td><td>'A'</td></tr><tr><th>24</th><td>6307</td><td>'E'</td></tr><tr><th>25</th><td>6308</td><td>'R'</td></tr><tr><th>26</th><td>6309</td><td>'S'</td></tr><tr><th>27</th><td>6310</td><td>'A'</td></tr><tr><th>28</th><td>6311</td><td>'O'</td></tr><tr><th>29</th><td>6312</td><td>'O'</td></tr><tr><th>30</th><td>6313</td><td>'r'</td></tr><tr><th>&vellip;</th><td>&vellip;</td><td>&vellip;</td></tr></tbody></table>"
      ],
      "text/latex": [
       "\\begin{tabular}{r|cc}\n",
       "\t& ID & Class\\\\\n",
       "\t\\hline\n",
       "\t& Int64 & Char\\\\\n",
       "\t\\hline\n",
       "\t1 & 6284 & 'H' \\\\\n",
       "\t2 & 6285 & 'E' \\\\\n",
       "\t3 & 6286 & 'A' \\\\\n",
       "\t4 & 6287 & 'D' \\\\\n",
       "\t5 & 6288 & 'E' \\\\\n",
       "\t6 & 6289 & 'I' \\\\\n",
       "\t7 & 6290 & '0' \\\\\n",
       "\t8 & 6291 & 'a' \\\\\n",
       "\t9 & 6292 & 'S' \\\\\n",
       "\t10 & 6293 & 'H' \\\\\n",
       "\t11 & 6294 & 'N' \\\\\n",
       "\t12 & 6295 & 'E' \\\\\n",
       "\t13 & 6296 & 'A' \\\\\n",
       "\t14 & 6297 & 'H' \\\\\n",
       "\t15 & 6298 & 'M' \\\\\n",
       "\t16 & 6299 & 'A' \\\\\n",
       "\t17 & 6300 & 'A' \\\\\n",
       "\t18 & 6301 & 'R' \\\\\n",
       "\t19 & 6302 & 'A' \\\\\n",
       "\t20 & 6303 & 'S' \\\\\n",
       "\t21 & 6304 & 'n' \\\\\n",
       "\t22 & 6305 & 'C' \\\\\n",
       "\t23 & 6306 & 'A' \\\\\n",
       "\t24 & 6307 & 'E' \\\\\n",
       "\t25 & 6308 & 'R' \\\\\n",
       "\t26 & 6309 & 'S' \\\\\n",
       "\t27 & 6310 & 'A' \\\\\n",
       "\t28 & 6311 & 'O' \\\\\n",
       "\t29 & 6312 & 'O' \\\\\n",
       "\t30 & 6313 & 'r' \\\\\n",
       "\t$\\dots$ & $\\dots$ & $\\dots$ \\\\\n",
       "\\end{tabular}\n"
      ],
      "text/plain": [
       "6220×2 DataFrame\n",
       "│ Row  │ ID    │ Class │\n",
       "│      │ \u001b[90mInt64\u001b[39m │ \u001b[90mChar\u001b[39m  │\n",
       "├──────┼───────┼───────┤\n",
       "│ 1    │ 6284  │ 'H'   │\n",
       "│ 2    │ 6285  │ 'E'   │\n",
       "│ 3    │ 6286  │ 'A'   │\n",
       "│ 4    │ 6287  │ 'D'   │\n",
       "│ 5    │ 6288  │ 'E'   │\n",
       "│ 6    │ 6289  │ 'I'   │\n",
       "│ 7    │ 6290  │ '0'   │\n",
       "│ 8    │ 6291  │ 'a'   │\n",
       "│ 9    │ 6292  │ 'S'   │\n",
       "│ 10   │ 6293  │ 'H'   │\n",
       "⋮\n",
       "│ 6210 │ 12493 │ '4'   │\n",
       "│ 6211 │ 12494 │ 'A'   │\n",
       "│ 6212 │ 12495 │ 'C'   │\n",
       "│ 6213 │ 12496 │ 'E'   │\n",
       "│ 6214 │ 12497 │ 'I'   │\n",
       "│ 6215 │ 12498 │ 'I'   │\n",
       "│ 6216 │ 12499 │ 'O'   │\n",
       "│ 6217 │ 12500 │ 'O'   │\n",
       "│ 6218 │ 12501 │ 'A'   │\n",
       "│ 6219 │ 12502 │ 'N'   │\n",
       "│ 6220 │ 12503 │ 'M'   │"
      ]
     },
     "execution_count": 40,
     "metadata": {},
     "output_type": "execute_result"
    }
   ],
   "source": [
    "#Get predictions for test data\n",
    "predTest = apply_forest(model, xTest)\n",
    "\n",
    "#Convert integer predictions to character\n",
    "labelsInfoTest[:Class] = Char.(predTest)\n",
    "\n",
    "\n",
    "#accuracy = nfoldCV_forest(yTrain, xTrain, 20, 50, 4, 1.0);\n",
    "#println(\"4 fold accuracy: $(mean(accuracy))\")\n",
    "\n",
    "#Save predictions\n",
    "#CSV.write(\"$(path)\\\\juliaSubmission.csv\", labelsInfoTest, separator=',', header=true)\n",
    "labelsInfoTest\n"
   ]
  },
  {
   "cell_type": "markdown",
   "metadata": {},
   "source": [
    "### KNN"
   ]
  },
  {
   "cell_type": "code",
   "execution_count": 46,
   "metadata": {},
   "outputs": [
    {
     "data": {
      "text/plain": [
       "400×6220 LinearAlgebra.Adjoint{Float64,Array{Float64,2}}:\n",
       " 0.45098   0.282353  0.113725   0.592157  …  0.329412  0.635294  0.403922\n",
       " 0.439216  0.27451   0.117647   0.592157     0.341176  0.67451   0.411765\n",
       " 0.443137  0.278431  0.0980392  0.584314     0.352941  0.678431  0.407843\n",
       " 0.439216  0.290196  0.0901961  0.6          0.356863  0.619608  0.403922\n",
       " 0.447059  0.329412  0.105882   0.572549     0.560784  0.639216  0.415686\n",
       " 0.45098   0.356863  0.101961   0.576471  …  0.670588  0.596078  0.419608\n",
       " 0.447059  0.380392  0.0901961  0.611765     0.701961  0.611765  0.411765\n",
       " 0.443137  0.372549  0.0980392  0.596078     0.729412  0.639216  0.411765\n",
       " 0.439216  0.286275  0.0901961  0.596078     0.780392  0.592157  0.411765\n",
       " 0.439216  0.266667  0.117647   0.596078     0.780392  0.619608  0.423529\n",
       " 0.45098   0.27451   0.117647   0.603922  …  0.796078  0.627451  0.419608\n",
       " 0.439216  0.278431  0.0862745  0.6          0.807843  0.627451  0.423529\n",
       " 0.45098   0.278431  0.0901961  0.592157     0.807843  0.619608  0.415686\n",
       " ⋮                                        ⋱                              \n",
       " 0.447059  0.356863  0.141176   0.596078     0.321569  0.611765  0.423529\n",
       " 0.537255  0.290196  0.152941   0.603922     0.317647  0.611765  0.423529\n",
       " 0.580392  0.286275  0.160784   0.615686  …  0.321569  0.592157  0.423529\n",
       " 0.568627  0.286275  0.156863   0.6          0.313725  0.6       0.423529\n",
       " 0.552941  0.278431  0.168627   0.580392     0.32549   0.588235  0.423529\n",
       " 0.466667  0.278431  0.184314   0.592157     0.317647  0.580392  0.423529\n",
       " 0.454902  0.368627  0.164706   0.615686     0.313725  0.580392  0.427451\n",
       " 0.466667  0.435294  0.168627   0.6       …  0.321569  0.623529  0.423529\n",
       " 0.792157  0.411765  0.196078   0.611765     0.317647  0.619608  0.411765\n",
       " 0.898039  0.380392  0.188235   0.596078     0.321569  0.619608  0.380392\n",
       " 0.627451  0.317647  0.109804   0.584314     0.317647  0.627451  0.352941\n",
       " 0.470588  0.294118  0.101961   0.592157     0.313725  0.584314  0.392157"
      ]
     },
     "execution_count": 46,
     "metadata": {},
     "output_type": "execute_result"
    }
   ],
   "source": [
    "xTrain = xTrain'\n",
    "xTest = xTest'"
   ]
  },
  {
   "cell_type": "code",
   "execution_count": 42,
   "metadata": {},
   "outputs": [
    {
     "data": {
      "text/plain": [
       "euclidean_distance (generic function with 1 method)"
      ]
     },
     "execution_count": 42,
     "metadata": {},
     "output_type": "execute_result"
    }
   ],
   "source": [
    "function euclidean_distance(a, b)\n",
    " distance = 0.0 \n",
    " for index in 1:size(a, 1) \n",
    "  distance += (a[index]-b[index]) * (a[index]-b[index])\n",
    " end\n",
    " return distance\n",
    "end"
   ]
  },
  {
   "cell_type": "code",
   "execution_count": 43,
   "metadata": {},
   "outputs": [
    {
     "data": {
      "text/plain": [
       "get_k_nearest_neighbors (generic function with 1 method)"
      ]
     },
     "execution_count": 43,
     "metadata": {},
     "output_type": "execute_result"
    }
   ],
   "source": [
    "#This function finds the k nearest neighbors of the i data point.\n",
    "function get_k_nearest_neighbors(x, i, k)\n",
    "\n",
    " nRows, nCols = size(x)\n",
    "\n",
    " #Let's initialize a vector image_i. We do this so that \n",
    " #the image i is accessed only once from the main X matrix.\n",
    " #The program saves time because no repeated work is done.\n",
    " #Also, creating an empty vector and filling it with each \n",
    " #element at a time is faster than copying the entire vector at once.\n",
    " #Creating empty array (vector) of nRows elements of type Float32(decimal)\n",
    " imageI = Array(Float32, nRows) \n",
    "\n",
    " for index in 1:nRows\n",
    "  imageI[index] = x[index, i]\n",
    " end\n",
    "\n",
    " #For the same previous reasons, we initialize an empty vector \n",
    " #that will contain the j data point\n",
    " imageJ = Array(Float32, nRows)\n",
    " \n",
    " #Let's also initialize an empty vector that will contain the distances\n",
    " #between the i data point and each data point in the X matrix.\n",
    " distances = Array(Float32, nCols)\n",
    " \n",
    " for j in 1:nCols\n",
    "  #The next for loop fills the vector image_j with the j data point \n",
    "  #from the main matrix. Copying element one by one is faster\n",
    "  #than copying the entire vector at once.\n",
    "  for index in 1:nRows\n",
    "   imageJ[index] = x[index, j]\n",
    "  end\n",
    "  #Let's calculate the distance and save the result\n",
    "  distances[j] = euclidean_distance(imageI, imageJ)\n",
    " end\n",
    " \n",
    " #The following line gives the indices sorted by distances.\n",
    " sortedNeighbors = sortperm(distances)\n",
    " \n",
    " #Let's select the k nearest neighbors. We start with the \n",
    " #second closest. See explanation below.\n",
    " kNearestNeighbors = sortedNeighbors[2:k+1]\n",
    " return kNearestNeighbors\n",
    "end"
   ]
  },
  {
   "cell_type": "code",
   "execution_count": 44,
   "metadata": {},
   "outputs": [
    {
     "data": {
      "text/plain": [
       "assign_label (generic function with 1 method)"
      ]
     },
     "execution_count": 44,
     "metadata": {},
     "output_type": "execute_result"
    }
   ],
   "source": [
    "#This function assigns a label to the i point according to\n",
    "#the labels of the k nearest neighbors. The training\n",
    "#data is stored in the X matrix, and its labels are stored in y.\n",
    "\n",
    "function assign_label(x, y, k, i)\n",
    " kNearestNeighbors = get_k_nearest_neighbors(x, i, k)\n",
    " \n",
    " #let's make a dictionary to save the counts of \n",
    " #the labels\n",
    " # Dict{}() is also right .\n",
    " # Int,Int indicates the dictionary to expect integer values \n",
    " counts = Dict{Int, Int}() \n",
    "\n",
    " #The next two variables keep track of the \n",
    " #label with the highest count.\n",
    " highestCount = 0\n",
    " mostPopularLabel = 0\n",
    "\n",
    " #Iterating over the labels of the k nearest neighbors\n",
    " for n in kNearestNeighbors\n",
    "  labelOfN = y[n]\n",
    "  #Adding the current label to our dictionary\n",
    "  #if it's not already there\n",
    "  if !haskey(counts, labelOfN)\n",
    "   counts[labelOfN] = 0\n",
    "  end\n",
    "  #Add one to the count\n",
    "  counts[labelOfN] += 1 \n",
    "\n",
    "  if counts[labelOfN] > highestCount\n",
    "   highestCount = counts[labelOfN]\n",
    "   mostPopularLabel = labelOfN\n",
    "  end \n",
    " end\n",
    " return mostPopularLabel\n",
    "end"
   ]
  },
  {
   "cell_type": "code",
   "execution_count": 47,
   "metadata": {},
   "outputs": [
    {
     "ename": "MethodError",
     "evalue": "MethodError: no method matching Array(::Type{Float32}, ::Int64)\nClosest candidates are:\n  Array(!Matched::LinearAlgebra.UniformScaling, ::Integer, !Matched::Integer) at C:\\cygwin\\home\\Administrator\\buildbot\\worker\\package_win64\\build\\usr\\share\\julia\\stdlib\\v1.0\\LinearAlgebra\\src\\uniformscaling.jl:329",
     "output_type": "error",
     "traceback": [
      "MethodError: no method matching Array(::Type{Float32}, ::Int64)\nClosest candidates are:\n  Array(!Matched::LinearAlgebra.UniformScaling, ::Integer, !Matched::Integer) at C:\\cygwin\\home\\Administrator\\buildbot\\worker\\package_win64\\build\\usr\\share\\julia\\stdlib\\v1.0\\LinearAlgebra\\src\\uniformscaling.jl:329",
      "",
      "Stacktrace:",
      " [1] get_k_nearest_neighbors(::LinearAlgebra.Adjoint{Float64,Array{Float64,2}}, ::Int64, ::Int64) at .\\In[43]:12",
      " [2] assign_label(::LinearAlgebra.Adjoint{Float64,Array{Float64,2}}, ::Array{Int64,1}, ::Int64, ::Int64) at .\\In[44]:6",
      " [3] (::getfield(Main, Symbol(\"##7#8\")))(::Int64) at .\\none:0",
      " [4] iterate at .\\generator.jl:47 [inlined]",
      " [5] collect(::Base.Generator{UnitRange{Int64},getfield(Main, Symbol(\"##7#8\"))}) at .\\array.jl:619",
      " [6] top-level scope at In[47]:3"
     ]
    }
   ],
   "source": [
    "#In this example, we use a value of 1 for k.\n",
    "k=1 \n",
    "yPredictions = [assign_label(xTrain, yTrain, k, i) for i in 1:size(xTrain, 2)]"
   ]
  },
  {
   "cell_type": "code",
   "execution_count": null,
   "metadata": {},
   "outputs": [],
   "source": []
  }
 ],
 "metadata": {
  "kernelspec": {
   "display_name": "Julia 1.0.0",
   "language": "julia",
   "name": "julia-1.0"
  },
  "language_info": {
   "file_extension": ".jl",
   "mimetype": "application/julia",
   "name": "julia",
   "version": "1.0.0"
  }
 },
 "nbformat": 4,
 "nbformat_minor": 2
}
